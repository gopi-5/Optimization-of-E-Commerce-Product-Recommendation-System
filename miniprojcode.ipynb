{
 "cells": [
  {
   "cell_type": "code",
   "execution_count": 68,
   "id": "47408e31",
   "metadata": {},
   "outputs": [],
   "source": [
    "import pandas as pd\n",
    "import numpy as np\n",
    "import matplotlib.pyplot as plt\n",
    "import seaborn as sns\n",
    "from sklearn.metrics.pairwise import cosine_similarity\n",
    "from sklearn.feature_extraction.text import TfidfVectorizer\n",
    "from sklearn.decomposition import TruncatedSVD, NMF\n",
    "from sklearn.metrics import precision_score, recall_score, f1_score\n",
    "from sklearn.model_selection import train_test_split\n",
    "from scipy.sparse import coo_matrix"
   ]
  },
  {
   "cell_type": "code",
   "execution_count": 69,
   "id": "00adddaa",
   "metadata": {},
   "outputs": [],
   "source": [
    "train_data = pd.read_csv('marketing_sample_for_walmart_com-walmart_com_product_review__20200701_20201231__5k_data.tsv', sep='\\t')"
   ]
  },
  {
   "cell_type": "code",
   "execution_count": 70,
   "id": "fd75f590",
   "metadata": {},
   "outputs": [],
   "source": [
    "train_data = train_data[['Uniq Id','Product Id', 'Product Rating', 'Product Reviews Count', 'Product Category', 'Product Brand', 'Product Name', 'Product Image Url', 'Product Description', 'Product Tags']]"
   ]
  },
  {
   "cell_type": "code",
   "execution_count": 71,
   "id": "ac30c5bf",
   "metadata": {
    "scrolled": false
   },
   "outputs": [
    {
     "data": {
      "text/html": [
       "<div>\n",
       "<style scoped>\n",
       "    .dataframe tbody tr th:only-of-type {\n",
       "        vertical-align: middle;\n",
       "    }\n",
       "\n",
       "    .dataframe tbody tr th {\n",
       "        vertical-align: top;\n",
       "    }\n",
       "\n",
       "    .dataframe thead th {\n",
       "        text-align: right;\n",
       "    }\n",
       "</style>\n",
       "<table border=\"1\" class=\"dataframe\">\n",
       "  <thead>\n",
       "    <tr style=\"text-align: right;\">\n",
       "      <th></th>\n",
       "      <th>Uniq Id</th>\n",
       "      <th>Product Id</th>\n",
       "      <th>Product Rating</th>\n",
       "      <th>Product Reviews Count</th>\n",
       "      <th>Product Category</th>\n",
       "      <th>Product Brand</th>\n",
       "      <th>Product Name</th>\n",
       "      <th>Product Image Url</th>\n",
       "      <th>Product Description</th>\n",
       "      <th>Product Tags</th>\n",
       "    </tr>\n",
       "  </thead>\n",
       "  <tbody>\n",
       "    <tr>\n",
       "      <th>0</th>\n",
       "      <td>1705736792d82aa2f2d3caf1c07c53f4</td>\n",
       "      <td>2e17bf4acecdece67fc00f07ad62c910</td>\n",
       "      <td>NaN</td>\n",
       "      <td>NaN</td>\n",
       "      <td>Premium Beauty &gt; Premium Makeup &gt; Premium Nail...</td>\n",
       "      <td>OPI</td>\n",
       "      <td>OPI Infinite Shine, Nail Lacquer Nail Polish, ...</td>\n",
       "      <td>https://i5.walmartimages.com/asr/0e1f4c51-c1a4...</td>\n",
       "      <td>NaN</td>\n",
       "      <td>OPI Infinite Shine, Nail Lacquer Nail Polish, ...</td>\n",
       "    </tr>\n",
       "    <tr>\n",
       "      <th>1</th>\n",
       "      <td>95a9fe6f4810fcfc7ff244fd06784f11</td>\n",
       "      <td>076e5854a62dd283c253d6bae415af1f</td>\n",
       "      <td>NaN</td>\n",
       "      <td>NaN</td>\n",
       "      <td>Beauty &gt; Hair Care &gt; Hair Color &gt; Auburn Hair ...</td>\n",
       "      <td>Nice'n Easy</td>\n",
       "      <td>Nice n Easy Permanent Color, 111 Natural Mediu...</td>\n",
       "      <td>https://i5.walmartimages.com/asr/9c8e42e4-13a5...</td>\n",
       "      <td>Pack of 3 Pack of 3 for the UPC: 381519000201 ...</td>\n",
       "      <td>Nice 'n Easy Permanent Color, 111 Natural Medi...</td>\n",
       "    </tr>\n",
       "    <tr>\n",
       "      <th>2</th>\n",
       "      <td>8d4d0330178d3ed181b15a4102b287f2</td>\n",
       "      <td>8a4fe5d9c7a6ed26cc44d785a454b124</td>\n",
       "      <td>4.5</td>\n",
       "      <td>29221.0</td>\n",
       "      <td>Beauty &gt; Hair Care &gt; Hair Color &gt; Permanent Ha...</td>\n",
       "      <td>Clairol</td>\n",
       "      <td>Clairol Nice N Easy Permanent Color 7/106A Nat...</td>\n",
       "      <td>https://i5.walmartimages.com/asr/e3a601c2-6a2b...</td>\n",
       "      <td>This Clairol Nice N Easy Permanent Color gives...</td>\n",
       "      <td>Clairol Nice 'N Easy Permanent Color 7/106A Na...</td>\n",
       "    </tr>\n",
       "    <tr>\n",
       "      <th>3</th>\n",
       "      <td>fddc4df45b35efd886794b261f730c51</td>\n",
       "      <td>03b5fb878a33eadff8b033419eab9669</td>\n",
       "      <td>NaN</td>\n",
       "      <td>NaN</td>\n",
       "      <td>Beauty &gt; Makeup &gt; Lip</td>\n",
       "      <td>Kokie Cosmetics</td>\n",
       "      <td>Kokie Professional Matte Lipstick, Hot Berry, ...</td>\n",
       "      <td>https://i5.walmartimages.com/asr/25b4b467-bc61...</td>\n",
       "      <td>Calling all matte lip lovers! Indulge in our r...</td>\n",
       "      <td>Kokie Professional Matte Lipstick, Hot Berry, ...</td>\n",
       "    </tr>\n",
       "    <tr>\n",
       "      <th>4</th>\n",
       "      <td>0990cf89a59ca6a0460349a3e4f51d42</td>\n",
       "      <td>ce3d761e57d6ccad80619297b5b1bcbc</td>\n",
       "      <td>NaN</td>\n",
       "      <td>131.0</td>\n",
       "      <td>Seasonal &gt; Stock Up Essentials &gt; Personal Care...</td>\n",
       "      <td>Gillette</td>\n",
       "      <td>Gillette TRAC II Plus Razor Blade Refills, Fit...</td>\n",
       "      <td>https://i5.walmartimages.com/asr/1a2ebb06-cd01...</td>\n",
       "      <td>In 1971, Gillette introduced the Trac II razor...</td>\n",
       "      <td>Gillette TRAC II Plus Razor Blade Refills, Fit...</td>\n",
       "    </tr>\n",
       "  </tbody>\n",
       "</table>\n",
       "</div>"
      ],
      "text/plain": [
       "                            Uniq Id                        Product Id  \\\n",
       "0  1705736792d82aa2f2d3caf1c07c53f4  2e17bf4acecdece67fc00f07ad62c910   \n",
       "1  95a9fe6f4810fcfc7ff244fd06784f11  076e5854a62dd283c253d6bae415af1f   \n",
       "2  8d4d0330178d3ed181b15a4102b287f2  8a4fe5d9c7a6ed26cc44d785a454b124   \n",
       "3  fddc4df45b35efd886794b261f730c51  03b5fb878a33eadff8b033419eab9669   \n",
       "4  0990cf89a59ca6a0460349a3e4f51d42  ce3d761e57d6ccad80619297b5b1bcbc   \n",
       "\n",
       "   Product Rating  Product Reviews Count  \\\n",
       "0             NaN                    NaN   \n",
       "1             NaN                    NaN   \n",
       "2             4.5                29221.0   \n",
       "3             NaN                    NaN   \n",
       "4             NaN                  131.0   \n",
       "\n",
       "                                    Product Category    Product Brand  \\\n",
       "0  Premium Beauty > Premium Makeup > Premium Nail...              OPI   \n",
       "1  Beauty > Hair Care > Hair Color > Auburn Hair ...      Nice'n Easy   \n",
       "2  Beauty > Hair Care > Hair Color > Permanent Ha...          Clairol   \n",
       "3                              Beauty > Makeup > Lip  Kokie Cosmetics   \n",
       "4  Seasonal > Stock Up Essentials > Personal Care...         Gillette   \n",
       "\n",
       "                                        Product Name  \\\n",
       "0  OPI Infinite Shine, Nail Lacquer Nail Polish, ...   \n",
       "1  Nice n Easy Permanent Color, 111 Natural Mediu...   \n",
       "2  Clairol Nice N Easy Permanent Color 7/106A Nat...   \n",
       "3  Kokie Professional Matte Lipstick, Hot Berry, ...   \n",
       "4  Gillette TRAC II Plus Razor Blade Refills, Fit...   \n",
       "\n",
       "                                   Product Image Url  \\\n",
       "0  https://i5.walmartimages.com/asr/0e1f4c51-c1a4...   \n",
       "1  https://i5.walmartimages.com/asr/9c8e42e4-13a5...   \n",
       "2  https://i5.walmartimages.com/asr/e3a601c2-6a2b...   \n",
       "3  https://i5.walmartimages.com/asr/25b4b467-bc61...   \n",
       "4  https://i5.walmartimages.com/asr/1a2ebb06-cd01...   \n",
       "\n",
       "                                 Product Description  \\\n",
       "0                                                NaN   \n",
       "1  Pack of 3 Pack of 3 for the UPC: 381519000201 ...   \n",
       "2  This Clairol Nice N Easy Permanent Color gives...   \n",
       "3  Calling all matte lip lovers! Indulge in our r...   \n",
       "4  In 1971, Gillette introduced the Trac II razor...   \n",
       "\n",
       "                                        Product Tags  \n",
       "0  OPI Infinite Shine, Nail Lacquer Nail Polish, ...  \n",
       "1  Nice 'n Easy Permanent Color, 111 Natural Medi...  \n",
       "2  Clairol Nice 'N Easy Permanent Color 7/106A Na...  \n",
       "3  Kokie Professional Matte Lipstick, Hot Berry, ...  \n",
       "4  Gillette TRAC II Plus Razor Blade Refills, Fit...  "
      ]
     },
     "execution_count": 71,
     "metadata": {},
     "output_type": "execute_result"
    }
   ],
   "source": [
    "train_data.head(5)"
   ]
  },
  {
   "cell_type": "code",
   "execution_count": 72,
   "id": "30add136",
   "metadata": {},
   "outputs": [
    {
     "data": {
      "text/plain": [
       "Uniq Id                     0\n",
       "Product Id                  0\n",
       "Product Rating           2806\n",
       "Product Reviews Count    1654\n",
       "Product Category           10\n",
       "Product Brand              13\n",
       "Product Name                0\n",
       "Product Image Url           0\n",
       "Product Description      1127\n",
       "Product Tags                0\n",
       "dtype: int64"
      ]
     },
     "execution_count": 72,
     "metadata": {},
     "output_type": "execute_result"
    }
   ],
   "source": [
    "train_data.isnull().sum()"
   ]
  },
  {
   "cell_type": "code",
   "execution_count": 73,
   "id": "27393fee",
   "metadata": {},
   "outputs": [],
   "source": [
    "train_data = train_data[['Uniq Id', 'Product Id', 'Product Rating', 'Product Reviews Count', 'Product Category', 'Product Brand', 'Product Name', 'Product Image Url', 'Product Description', 'Product Tags']]\n",
    "train_data['Product Rating'].fillna(0, inplace=True)\n",
    "train_data['Product Reviews Count'].fillna(0, inplace=True)\n",
    "train_data['Product Category'].fillna('', inplace=True)\n",
    "train_data['Product Brand'].fillna('', inplace=True)\n",
    "train_data['Product Description'].fillna('', inplace=True)"
   ]
  },
  {
   "cell_type": "code",
   "execution_count": 74,
   "id": "0865ba4d",
   "metadata": {},
   "outputs": [
    {
     "data": {
      "text/plain": [
       "Uniq Id                  0\n",
       "Product Id               0\n",
       "Product Rating           0\n",
       "Product Reviews Count    0\n",
       "Product Category         0\n",
       "Product Brand            0\n",
       "Product Name             0\n",
       "Product Image Url        0\n",
       "Product Description      0\n",
       "Product Tags             0\n",
       "dtype: int64"
      ]
     },
     "execution_count": 74,
     "metadata": {},
     "output_type": "execute_result"
    }
   ],
   "source": [
    "train_data.isnull().sum()"
   ]
  },
  {
   "cell_type": "code",
   "execution_count": 75,
   "id": "a8e12061",
   "metadata": {},
   "outputs": [
    {
     "data": {
      "text/plain": [
       "0"
      ]
     },
     "execution_count": 75,
     "metadata": {},
     "output_type": "execute_result"
    }
   ],
   "source": [
    "train_data.duplicated().sum()"
   ]
  },
  {
   "cell_type": "code",
   "execution_count": 76,
   "id": "f5dc25cf",
   "metadata": {},
   "outputs": [],
   "source": [
    "column_name_mapping = {\n",
    "    'Uniq Id': 'ID', 'Product Id': 'ProdID', 'Product Rating': 'Rating', 'Product Reviews Count': 'ReviewCount',\n",
    "    'Product Category': 'Category', 'Product Brand': 'Brand', 'Product Name': 'Name', 'Product Image Url': 'ImageURL',\n",
    "    'Product Description': 'Description', 'Product Tags': 'Tags'\n",
    "}\n",
    "train_data.rename(columns=column_name_mapping, inplace=True)"
   ]
  },
  {
   "cell_type": "code",
   "execution_count": 77,
   "id": "465561da",
   "metadata": {},
   "outputs": [],
   "source": [
    "train_data['ID'] = train_data['ID'].str.extract(r'(\\d+)').astype(float)\n",
    "train_data['ProdID'] = train_data['ProdID'].str.extract(r'(\\d+)').astype(float)"
   ]
  },
  {
   "cell_type": "code",
   "execution_count": 78,
   "id": "17ed377e",
   "metadata": {},
   "outputs": [],
   "source": [
    "average_ratings = train_data.groupby(['Name','ReviewCount','Brand','ImageURL'])['Rating'].mean().reset_index()"
   ]
  },
  {
   "cell_type": "code",
   "execution_count": 79,
   "id": "14551b93",
   "metadata": {},
   "outputs": [],
   "source": [
    "top_rated_items = average_ratings.sort_values(by='Rating', ascending=False)\n",
    "\n",
    "rating_base_recommendation = top_rated_items.head(10)"
   ]
  },
  {
   "cell_type": "code",
   "execution_count": 80,
   "id": "4eaec720",
   "metadata": {},
   "outputs": [
    {
     "name": "stderr",
     "output_type": "stream",
     "text": [
      "C:\\Users\\gopik\\AppData\\Local\\Temp\\ipykernel_12192\\565725879.py:1: SettingWithCopyWarning: \n",
      "A value is trying to be set on a copy of a slice from a DataFrame.\n",
      "Try using .loc[row_indexer,col_indexer] = value instead\n",
      "\n",
      "See the caveats in the documentation: https://pandas.pydata.org/pandas-docs/stable/user_guide/indexing.html#returning-a-view-versus-a-copy\n",
      "  rating_base_recommendation['Rating'] = rating_base_recommendation['Rating'].astype(int)\n",
      "C:\\Users\\gopik\\AppData\\Local\\Temp\\ipykernel_12192\\565725879.py:2: SettingWithCopyWarning: \n",
      "A value is trying to be set on a copy of a slice from a DataFrame.\n",
      "Try using .loc[row_indexer,col_indexer] = value instead\n",
      "\n",
      "See the caveats in the documentation: https://pandas.pydata.org/pandas-docs/stable/user_guide/indexing.html#returning-a-view-versus-a-copy\n",
      "  rating_base_recommendation['ReviewCount'] = rating_base_recommendation['ReviewCount'].astype(int)\n"
     ]
    }
   ],
   "source": [
    "rating_base_recommendation['Rating'] = rating_base_recommendation['Rating'].astype(int)\n",
    "rating_base_recommendation['ReviewCount'] = rating_base_recommendation['ReviewCount'].astype(int)"
   ]
  },
  {
   "cell_type": "code",
   "execution_count": 81,
   "id": "4aee1606",
   "metadata": {
    "scrolled": true
   },
   "outputs": [
    {
     "name": "stdout",
     "output_type": "stream",
     "text": [
      "Rating Base Recommendation System: (Trending Products)\n"
     ]
    },
    {
     "data": {
      "text/html": [
       "<div>\n",
       "<style scoped>\n",
       "    .dataframe tbody tr th:only-of-type {\n",
       "        vertical-align: middle;\n",
       "    }\n",
       "\n",
       "    .dataframe tbody tr th {\n",
       "        vertical-align: top;\n",
       "    }\n",
       "\n",
       "    .dataframe thead th {\n",
       "        text-align: right;\n",
       "    }\n",
       "</style>\n",
       "<table border=\"1\" class=\"dataframe\">\n",
       "  <thead>\n",
       "    <tr style=\"text-align: right;\">\n",
       "      <th></th>\n",
       "      <th>Name</th>\n",
       "      <th>ReviewCount</th>\n",
       "      <th>Brand</th>\n",
       "      <th>ImageURL</th>\n",
       "      <th>Rating</th>\n",
       "    </tr>\n",
       "  </thead>\n",
       "  <tbody>\n",
       "    <tr>\n",
       "      <th>1686</th>\n",
       "      <td>Electric Shaver, Triple Shaving Time Electric ...</td>\n",
       "      <td>4</td>\n",
       "      <td>Moosoo</td>\n",
       "      <td>https://i5.walmartimages.com/asr/e7dcd553-90df...</td>\n",
       "      <td>5</td>\n",
       "    </tr>\n",
       "    <tr>\n",
       "      <th>526</th>\n",
       "      <td>Alaffia Body Lotion, Vanilla, 32 Oz</td>\n",
       "      <td>2</td>\n",
       "      <td>Alaffia</td>\n",
       "      <td>https://i5.walmartimages.com/asr/2988c323-cb6f...</td>\n",
       "      <td>5</td>\n",
       "    </tr>\n",
       "    <tr>\n",
       "      <th>2053</th>\n",
       "      <td>Gold Bond Ultimate Ultimate Healing Lotion, Al...</td>\n",
       "      <td>2</td>\n",
       "      <td>Gold Bond</td>\n",
       "      <td>https://i5.walmartimages.com/asr/34b610e7-05db...</td>\n",
       "      <td>5</td>\n",
       "    </tr>\n",
       "    <tr>\n",
       "      <th>4716</th>\n",
       "      <td>Versace Man Eau Fraiche Eau De Toilette Spray,...</td>\n",
       "      <td>24</td>\n",
       "      <td>Versace</td>\n",
       "      <td>https://i5.walmartimages.com/asr/edaaeed5-9da0...</td>\n",
       "      <td>5</td>\n",
       "    </tr>\n",
       "    <tr>\n",
       "      <th>2058</th>\n",
       "      <td>Goldwell StyleSign 1 Flat Marvel Straightening...</td>\n",
       "      <td>2</td>\n",
       "      <td>Goldwell</td>\n",
       "      <td>https://i5.walmartimages.com/asr/3bf90289-6980...</td>\n",
       "      <td>5</td>\n",
       "    </tr>\n",
       "    <tr>\n",
       "      <th>3842</th>\n",
       "      <td>Red Devil 0322 Steel Wool # 00 Very Fine, 8 Pa...</td>\n",
       "      <td>1</td>\n",
       "      <td>Red Devil</td>\n",
       "      <td>https://i5.walmartimages.com/asr/60bfe5ba-774c...</td>\n",
       "      <td>5</td>\n",
       "    </tr>\n",
       "    <tr>\n",
       "      <th>510</th>\n",
       "      <td>Air Wick Plug in Starter Kit, Warmer + 1 Refil...</td>\n",
       "      <td>1</td>\n",
       "      <td>Air Wick</td>\n",
       "      <td>https://i5.walmartimages.com/asr/0fac65b2-c6aa...</td>\n",
       "      <td>5</td>\n",
       "    </tr>\n",
       "    <tr>\n",
       "      <th>3841</th>\n",
       "      <td>Recovery Complex Anti-Frizz Shine Serum by Bai...</td>\n",
       "      <td>4</td>\n",
       "      <td>Bain de Terre</td>\n",
       "      <td>https://i5.walmartimages.com/asr/fcdb4d2e-3727...</td>\n",
       "      <td>5</td>\n",
       "    </tr>\n",
       "    <tr>\n",
       "      <th>2687</th>\n",
       "      <td>Long Aid Extra Dry Formula Curl Activator Gel ...</td>\n",
       "      <td>12</td>\n",
       "      <td>Long Aid</td>\n",
       "      <td>https://i5.walmartimages.com/asr/f7f29199-bfa5...</td>\n",
       "      <td>5</td>\n",
       "    </tr>\n",
       "    <tr>\n",
       "      <th>2062</th>\n",
       "      <td>Good Sense 60-Day Air Care System, Citrus, 2 o...</td>\n",
       "      <td>1</td>\n",
       "      <td>Diversey</td>\n",
       "      <td>https://i5.walmartimages.com/asr/025a7068-7bb1...</td>\n",
       "      <td>5</td>\n",
       "    </tr>\n",
       "  </tbody>\n",
       "</table>\n",
       "</div>"
      ],
      "text/plain": [
       "                                                   Name  ReviewCount  \\\n",
       "1686  Electric Shaver, Triple Shaving Time Electric ...            4   \n",
       "526                 Alaffia Body Lotion, Vanilla, 32 Oz            2   \n",
       "2053  Gold Bond Ultimate Ultimate Healing Lotion, Al...            2   \n",
       "4716  Versace Man Eau Fraiche Eau De Toilette Spray,...           24   \n",
       "2058  Goldwell StyleSign 1 Flat Marvel Straightening...            2   \n",
       "3842  Red Devil 0322 Steel Wool # 00 Very Fine, 8 Pa...            1   \n",
       "510   Air Wick Plug in Starter Kit, Warmer + 1 Refil...            1   \n",
       "3841  Recovery Complex Anti-Frizz Shine Serum by Bai...            4   \n",
       "2687  Long Aid Extra Dry Formula Curl Activator Gel ...           12   \n",
       "2062  Good Sense 60-Day Air Care System, Citrus, 2 o...            1   \n",
       "\n",
       "              Brand                                           ImageURL  Rating  \n",
       "1686         Moosoo  https://i5.walmartimages.com/asr/e7dcd553-90df...       5  \n",
       "526         Alaffia  https://i5.walmartimages.com/asr/2988c323-cb6f...       5  \n",
       "2053      Gold Bond  https://i5.walmartimages.com/asr/34b610e7-05db...       5  \n",
       "4716        Versace  https://i5.walmartimages.com/asr/edaaeed5-9da0...       5  \n",
       "2058       Goldwell  https://i5.walmartimages.com/asr/3bf90289-6980...       5  \n",
       "3842      Red Devil  https://i5.walmartimages.com/asr/60bfe5ba-774c...       5  \n",
       "510        Air Wick  https://i5.walmartimages.com/asr/0fac65b2-c6aa...       5  \n",
       "3841  Bain de Terre  https://i5.walmartimages.com/asr/fcdb4d2e-3727...       5  \n",
       "2687       Long Aid  https://i5.walmartimages.com/asr/f7f29199-bfa5...       5  \n",
       "2062       Diversey  https://i5.walmartimages.com/asr/025a7068-7bb1...       5  "
      ]
     },
     "execution_count": 81,
     "metadata": {},
     "output_type": "execute_result"
    }
   ],
   "source": [
    "print(\"Rating Base Recommendation System: (Trending Products)\")\n",
    "\n",
    "rating_base_recommendation"
   ]
  },
  {
   "cell_type": "code",
   "execution_count": 82,
   "id": "837ee8d2",
   "metadata": {},
   "outputs": [],
   "source": [
    "def reduce_tfidf_dimensionality(tfidf_matrix, n_components=100):\n",
    "    svd = TruncatedSVD(n_components=n_components)\n",
    "    tfidf_reduced = svd.fit_transform(tfidf_matrix)\n",
    "    return tfidf_reduced"
   ]
  },
  {
   "cell_type": "code",
   "execution_count": 83,
   "id": "50c87acd",
   "metadata": {},
   "outputs": [],
   "source": [
    "def content_based_recommendations(train_data, item_name, top_n=10):\n",
    "    if item_name not in train_data['Name'].values:\n",
    "        print(f\"Item '{item_name}' not found in the training data.\")\n",
    "        return pd.DataFrame()\n",
    "\n",
    "    tfidf_vectorizer = TfidfVectorizer(stop_words='english')\n",
    "    tfidf_matrix_content = tfidf_vectorizer.fit_transform(train_data['Tags'])\n",
    "    tfidf_reduced_content = reduce_tfidf_dimensionality(tfidf_matrix_content)\n",
    "    cosine_similarities_content = cosine_similarity(tfidf_matrix_content, tfidf_matrix_content)\n",
    "    item_index = train_data[train_data['Name'] == item_name].index[0]\n",
    "    similar_items = list(enumerate(cosine_similarities_content[item_index]))\n",
    "    similar_items = sorted(similar_items, key=lambda x: x[1], reverse=True)\n",
    "    top_similar_items = similar_items[1:top_n+1]\n",
    "    recommended_item_indices = [x[0] for x in top_similar_items]\n",
    "    recommended_items_details = train_data.iloc[recommended_item_indices][['Name', 'ReviewCount', 'Brand', 'ImageURL', 'Rating']]\n",
    "    return recommended_items_details"
   ]
  },
  {
   "cell_type": "code",
   "execution_count": 84,
   "id": "237c15d3",
   "metadata": {
    "scrolled": true
   },
   "outputs": [
    {
     "data": {
      "text/html": [
       "<div>\n",
       "<style scoped>\n",
       "    .dataframe tbody tr th:only-of-type {\n",
       "        vertical-align: middle;\n",
       "    }\n",
       "\n",
       "    .dataframe tbody tr th {\n",
       "        vertical-align: top;\n",
       "    }\n",
       "\n",
       "    .dataframe thead th {\n",
       "        text-align: right;\n",
       "    }\n",
       "</style>\n",
       "<table border=\"1\" class=\"dataframe\">\n",
       "  <thead>\n",
       "    <tr style=\"text-align: right;\">\n",
       "      <th></th>\n",
       "      <th>Name</th>\n",
       "      <th>ReviewCount</th>\n",
       "      <th>Brand</th>\n",
       "      <th>ImageURL</th>\n",
       "      <th>Rating</th>\n",
       "    </tr>\n",
       "  </thead>\n",
       "  <tbody>\n",
       "    <tr>\n",
       "      <th>4854</th>\n",
       "      <td>OPI Infinite Shine Nail Polish, Dulce De Leche...</td>\n",
       "      <td>1.0</td>\n",
       "      <td>OPI</td>\n",
       "      <td>https://i5.walmartimages.com/asr/466527fe-9e5e...</td>\n",
       "      <td>5.0</td>\n",
       "    </tr>\n",
       "    <tr>\n",
       "      <th>3052</th>\n",
       "      <td>OPI Nail Lacquer Nail Polish, Hawaiian Orchid</td>\n",
       "      <td>1.0</td>\n",
       "      <td>OPI</td>\n",
       "      <td>https://i5.walmartimages.com/asr/cef5a3ca-dfed...</td>\n",
       "      <td>4.0</td>\n",
       "    </tr>\n",
       "    <tr>\n",
       "      <th>4010</th>\n",
       "      <td>OPI Nail Polish, Are We There Yet?, 0.5 Fl Oz</td>\n",
       "      <td>2.0</td>\n",
       "      <td>OPI</td>\n",
       "      <td>https://i5.walmartimages.com/asr/bb0c5e20-0ead...</td>\n",
       "      <td>3.0</td>\n",
       "    </tr>\n",
       "    <tr>\n",
       "      <th>4752</th>\n",
       "      <td>OPI Infinite Shine Nail Polish, Let Love Spark...</td>\n",
       "      <td>3.0</td>\n",
       "      <td>OPI</td>\n",
       "      <td>https://i5.walmartimages.com/asr/7eef48ac-3a28...</td>\n",
       "      <td>4.0</td>\n",
       "    </tr>\n",
       "    <tr>\n",
       "      <th>4356</th>\n",
       "      <td>OPI Nail Lacquer Nail Polish, Go with the Lava...</td>\n",
       "      <td>1.0</td>\n",
       "      <td>OPI</td>\n",
       "      <td>https://i5.walmartimages.com/asr/6cd23e3d-f3be...</td>\n",
       "      <td>5.0</td>\n",
       "    </tr>\n",
       "    <tr>\n",
       "      <th>3967</th>\n",
       "      <td>OPI Infinite Shine Nail Polish, Mini Scotland ...</td>\n",
       "      <td>1.0</td>\n",
       "      <td>OPI</td>\n",
       "      <td>https://i5.walmartimages.com/asr/b673df9d-cc73...</td>\n",
       "      <td>0.0</td>\n",
       "    </tr>\n",
       "    <tr>\n",
       "      <th>2952</th>\n",
       "      <td>OPI Nail Lacquer Nail Polish, Miami Beet</td>\n",
       "      <td>0.0</td>\n",
       "      <td>OPI</td>\n",
       "      <td>https://i5.walmartimages.com/asr/083f9170-da65...</td>\n",
       "      <td>0.0</td>\n",
       "    </tr>\n",
       "    <tr>\n",
       "      <th>4966</th>\n",
       "      <td>OPI Nail GelColor + Infinite Shine Polish -TAU...</td>\n",
       "      <td>0.0</td>\n",
       "      <td>OPI</td>\n",
       "      <td>https://i5.walmartimages.com/asr/a364a6d7-0cd1...</td>\n",
       "      <td>0.0</td>\n",
       "    </tr>\n",
       "  </tbody>\n",
       "</table>\n",
       "</div>"
      ],
      "text/plain": [
       "                                                   Name  ReviewCount Brand  \\\n",
       "4854  OPI Infinite Shine Nail Polish, Dulce De Leche...          1.0   OPI   \n",
       "3052      OPI Nail Lacquer Nail Polish, Hawaiian Orchid          1.0   OPI   \n",
       "4010      OPI Nail Polish, Are We There Yet?, 0.5 Fl Oz          2.0   OPI   \n",
       "4752  OPI Infinite Shine Nail Polish, Let Love Spark...          3.0   OPI   \n",
       "4356  OPI Nail Lacquer Nail Polish, Go with the Lava...          1.0   OPI   \n",
       "3967  OPI Infinite Shine Nail Polish, Mini Scotland ...          1.0   OPI   \n",
       "2952           OPI Nail Lacquer Nail Polish, Miami Beet          0.0   OPI   \n",
       "4966  OPI Nail GelColor + Infinite Shine Polish -TAU...          0.0   OPI   \n",
       "\n",
       "                                               ImageURL  Rating  \n",
       "4854  https://i5.walmartimages.com/asr/466527fe-9e5e...     5.0  \n",
       "3052  https://i5.walmartimages.com/asr/cef5a3ca-dfed...     4.0  \n",
       "4010  https://i5.walmartimages.com/asr/bb0c5e20-0ead...     3.0  \n",
       "4752  https://i5.walmartimages.com/asr/7eef48ac-3a28...     4.0  \n",
       "4356  https://i5.walmartimages.com/asr/6cd23e3d-f3be...     5.0  \n",
       "3967  https://i5.walmartimages.com/asr/b673df9d-cc73...     0.0  \n",
       "2952  https://i5.walmartimages.com/asr/083f9170-da65...     0.0  \n",
       "4966  https://i5.walmartimages.com/asr/a364a6d7-0cd1...     0.0  "
      ]
     },
     "execution_count": 84,
     "metadata": {},
     "output_type": "execute_result"
    }
   ],
   "source": [
    "item_name = 'OPI Infinite Shine, Nail Lacquer Nail Polish, Bubble Bath'\n",
    "content_based_rec = content_based_recommendations(train_data, item_name, top_n=8)\n",
    "\n",
    "content_based_rec"
   ]
  },
  {
   "cell_type": "code",
   "execution_count": 85,
   "id": "35eff699",
   "metadata": {
    "scrolled": true
   },
   "outputs": [
    {
     "data": {
      "text/html": [
       "<div>\n",
       "<style scoped>\n",
       "    .dataframe tbody tr th:only-of-type {\n",
       "        vertical-align: middle;\n",
       "    }\n",
       "\n",
       "    .dataframe tbody tr th {\n",
       "        vertical-align: top;\n",
       "    }\n",
       "\n",
       "    .dataframe thead th {\n",
       "        text-align: right;\n",
       "    }\n",
       "</style>\n",
       "<table border=\"1\" class=\"dataframe\">\n",
       "  <thead>\n",
       "    <tr style=\"text-align: right;\">\n",
       "      <th></th>\n",
       "      <th>Name</th>\n",
       "      <th>ReviewCount</th>\n",
       "      <th>Brand</th>\n",
       "      <th>ImageURL</th>\n",
       "      <th>Rating</th>\n",
       "    </tr>\n",
       "  </thead>\n",
       "  <tbody>\n",
       "    <tr>\n",
       "      <th>546</th>\n",
       "      <td>Kokie Professional Matte Lipstick, Kiss Me, 0....</td>\n",
       "      <td>0.0</td>\n",
       "      <td>Kokie Cosmetics</td>\n",
       "      <td>https://i5.walmartimages.com/asr/27dd82a2-2b9c...</td>\n",
       "      <td>0.0</td>\n",
       "    </tr>\n",
       "    <tr>\n",
       "      <th>3406</th>\n",
       "      <td>Kokie Professional Matte Lipstick, Firecracker...</td>\n",
       "      <td>0.0</td>\n",
       "      <td>Kokie Cosmetics</td>\n",
       "      <td>https://i5.walmartimages.com/asr/8312221b-ed22...</td>\n",
       "      <td>0.0</td>\n",
       "    </tr>\n",
       "    <tr>\n",
       "      <th>2873</th>\n",
       "      <td>Kokie Professional Lip Poudre Liquid Matte Liq...</td>\n",
       "      <td>7.0</td>\n",
       "      <td>Kokie Cosmetics</td>\n",
       "      <td>https://i5.walmartimages.com/asr/31c99d9b-ea11...</td>\n",
       "      <td>3.4</td>\n",
       "    </tr>\n",
       "    <tr>\n",
       "      <th>4050</th>\n",
       "      <td>Kokie Professional Lip Poudre Liquid Matte Liq...</td>\n",
       "      <td>7.0</td>\n",
       "      <td>Kokie Cosmetics</td>\n",
       "      <td>https://i5.walmartimages.com/asr/fdd7498c-319f...</td>\n",
       "      <td>3.4</td>\n",
       "    </tr>\n",
       "    <tr>\n",
       "      <th>3023</th>\n",
       "      <td>Be Matte Lipstick - Pink</td>\n",
       "      <td>2.0</td>\n",
       "      <td>City Color</td>\n",
       "      <td>https://i5.walmartimages.com/asr/4425a13e-085f...</td>\n",
       "      <td>3.0</td>\n",
       "    </tr>\n",
       "    <tr>\n",
       "      <th>558</th>\n",
       "      <td>Kokie Professional Nail Polish, Girls Night , ...</td>\n",
       "      <td>6.0</td>\n",
       "      <td>Kokie Cosmetics</td>\n",
       "      <td>https://i5.walmartimages.com/asr/a6f6da7a-cb11...</td>\n",
       "      <td>4.2</td>\n",
       "    </tr>\n",
       "    <tr>\n",
       "      <th>4920</th>\n",
       "      <td>Kokie Professional Nail Polish, Jamacan Me Blu...</td>\n",
       "      <td>6.0</td>\n",
       "      <td>Kokie Cosmetics</td>\n",
       "      <td>https://i5.walmartimages.com/asr/16fc0e60-1c66...</td>\n",
       "      <td>4.2</td>\n",
       "    </tr>\n",
       "    <tr>\n",
       "      <th>3620</th>\n",
       "      <td>Kokie Professional Skin Perfect HD Foundation,...</td>\n",
       "      <td>9.0</td>\n",
       "      <td>Kokie Cosmetics</td>\n",
       "      <td>https://i5.walmartimages.com/asr/2f8fcaa9-7db7...</td>\n",
       "      <td>0.0</td>\n",
       "    </tr>\n",
       "  </tbody>\n",
       "</table>\n",
       "</div>"
      ],
      "text/plain": [
       "                                                   Name  ReviewCount  \\\n",
       "546   Kokie Professional Matte Lipstick, Kiss Me, 0....          0.0   \n",
       "3406  Kokie Professional Matte Lipstick, Firecracker...          0.0   \n",
       "2873  Kokie Professional Lip Poudre Liquid Matte Liq...          7.0   \n",
       "4050  Kokie Professional Lip Poudre Liquid Matte Liq...          7.0   \n",
       "3023                           Be Matte Lipstick - Pink          2.0   \n",
       "558   Kokie Professional Nail Polish, Girls Night , ...          6.0   \n",
       "4920  Kokie Professional Nail Polish, Jamacan Me Blu...          6.0   \n",
       "3620  Kokie Professional Skin Perfect HD Foundation,...          9.0   \n",
       "\n",
       "                Brand                                           ImageURL  \\\n",
       "546   Kokie Cosmetics  https://i5.walmartimages.com/asr/27dd82a2-2b9c...   \n",
       "3406  Kokie Cosmetics  https://i5.walmartimages.com/asr/8312221b-ed22...   \n",
       "2873  Kokie Cosmetics  https://i5.walmartimages.com/asr/31c99d9b-ea11...   \n",
       "4050  Kokie Cosmetics  https://i5.walmartimages.com/asr/fdd7498c-319f...   \n",
       "3023       City Color  https://i5.walmartimages.com/asr/4425a13e-085f...   \n",
       "558   Kokie Cosmetics  https://i5.walmartimages.com/asr/a6f6da7a-cb11...   \n",
       "4920  Kokie Cosmetics  https://i5.walmartimages.com/asr/16fc0e60-1c66...   \n",
       "3620  Kokie Cosmetics  https://i5.walmartimages.com/asr/2f8fcaa9-7db7...   \n",
       "\n",
       "      Rating  \n",
       "546      0.0  \n",
       "3406     0.0  \n",
       "2873     3.4  \n",
       "4050     3.4  \n",
       "3023     3.0  \n",
       "558      4.2  \n",
       "4920     4.2  \n",
       "3620     0.0  "
      ]
     },
     "execution_count": 85,
     "metadata": {},
     "output_type": "execute_result"
    }
   ],
   "source": [
    "item_name = 'Kokie Professional Matte Lipstick, Hot Berry, 0.14 fl oz'\n",
    "content_based_rec = content_based_recommendations(train_data, item_name, top_n=8)\n",
    "\n",
    "content_based_rec"
   ]
  },
  {
   "cell_type": "code",
   "execution_count": 86,
   "id": "dfec51b3",
   "metadata": {
    "scrolled": true
   },
   "outputs": [
    {
     "name": "stderr",
     "output_type": "stream",
     "text": [
      "C:\\Users\\gopik\\anaconda3\\lib\\site-packages\\sklearn\\utils\\validation.py:1688: FutureWarning: Feature names only support names that are all strings. Got feature names with dtypes: ['float']. An error will be raised in 1.2.\n",
      "  warnings.warn(\n",
      "C:\\Users\\gopik\\anaconda3\\lib\\site-packages\\sklearn\\decomposition\\_nmf.py:289: FutureWarning: The 'init' value, when 'init=None' and n_components is less than n_samples and n_features, will be changed from 'nndsvd' to 'nndsvda' in 1.1 (renaming of 0.26).\n",
      "  warnings.warn(\n"
     ]
    },
    {
     "name": "stdout",
     "output_type": "stream",
     "text": [
      "Top 5 recommendations for User 4:\n"
     ]
    },
    {
     "data": {
      "text/html": [
       "<div>\n",
       "<style scoped>\n",
       "    .dataframe tbody tr th:only-of-type {\n",
       "        vertical-align: middle;\n",
       "    }\n",
       "\n",
       "    .dataframe tbody tr th {\n",
       "        vertical-align: top;\n",
       "    }\n",
       "\n",
       "    .dataframe thead th {\n",
       "        text-align: right;\n",
       "    }\n",
       "</style>\n",
       "<table border=\"1\" class=\"dataframe\">\n",
       "  <thead>\n",
       "    <tr style=\"text-align: right;\">\n",
       "      <th></th>\n",
       "      <th>Name</th>\n",
       "      <th>ReviewCount</th>\n",
       "      <th>Brand</th>\n",
       "      <th>ImageURL</th>\n",
       "      <th>Rating</th>\n",
       "    </tr>\n",
       "  </thead>\n",
       "  <tbody>\n",
       "    <tr>\n",
       "      <th>1</th>\n",
       "      <td>Nice n Easy Permanent Color, 111 Natural Mediu...</td>\n",
       "      <td>0.0</td>\n",
       "      <td>Nice'n Easy</td>\n",
       "      <td>https://i5.walmartimages.com/asr/9c8e42e4-13a5...</td>\n",
       "      <td>0.0</td>\n",
       "    </tr>\n",
       "    <tr>\n",
       "      <th>5</th>\n",
       "      <td>Old Spice Artisan Styling High Hold Matte Fini...</td>\n",
       "      <td>52.0</td>\n",
       "      <td>Old Spice</td>\n",
       "      <td>https://i5.walmartimages.com/asr/73214b95-72ce...</td>\n",
       "      <td>4.6</td>\n",
       "    </tr>\n",
       "    <tr>\n",
       "      <th>6</th>\n",
       "      <td>Colgate My First Baby and Toddler Toothpaste, ...</td>\n",
       "      <td>10.0</td>\n",
       "      <td>Colgate</td>\n",
       "      <td>https://i5.walmartimages.com/asr/d28b16f4-1bd4...</td>\n",
       "      <td>4.3</td>\n",
       "    </tr>\n",
       "    <tr>\n",
       "      <th>9</th>\n",
       "      <td>(3 pack) Vaseline Lip Therapy Tinted Lip Balm ...</td>\n",
       "      <td>950.0</td>\n",
       "      <td>Vaseline</td>\n",
       "      <td>https://i5.walmartimages.com/asr/6fced36e-5459...</td>\n",
       "      <td>0.0</td>\n",
       "    </tr>\n",
       "    <tr>\n",
       "      <th>10</th>\n",
       "      <td>The Art of Shaving Mens Hair Styling Gel, Juni...</td>\n",
       "      <td>0.0</td>\n",
       "      <td>The Art of Shaving</td>\n",
       "      <td>https://i5.walmartimages.com/asr/661839a6-67ac...</td>\n",
       "      <td>0.0</td>\n",
       "    </tr>\n",
       "    <tr>\n",
       "      <th>11</th>\n",
       "      <td>ORLY Nail Lacquer for Women, #20634 Red Carpet...</td>\n",
       "      <td>2.0</td>\n",
       "      <td>ORLY</td>\n",
       "      <td>https://i5.walmartimages.com/asr/e37d0f7d-defd...</td>\n",
       "      <td>4.5</td>\n",
       "    </tr>\n",
       "    <tr>\n",
       "      <th>12</th>\n",
       "      <td>LOreal Paris True Match Super-Blendable Blush,...</td>\n",
       "      <td>184.0</td>\n",
       "      <td>L'Oreal Paris</td>\n",
       "      <td>https://i5.walmartimages.com/asr/506a78ca-cca6...</td>\n",
       "      <td>3.8</td>\n",
       "    </tr>\n",
       "    <tr>\n",
       "      <th>13</th>\n",
       "      <td>Pantene Shampoo and Conditioner Set, Sheer Vol...</td>\n",
       "      <td>413.0</td>\n",
       "      <td>Pantene</td>\n",
       "      <td>https://i5.walmartimages.com/asr/d13252b0-a730...</td>\n",
       "      <td>4.1</td>\n",
       "    </tr>\n",
       "    <tr>\n",
       "      <th>17</th>\n",
       "      <td>Aromatherapy Essential Oil Diffuser 200ml - Ma...</td>\n",
       "      <td>12.0</td>\n",
       "      <td>Magnifeko</td>\n",
       "      <td>https://i5.walmartimages.com/asr/43f7de97-84bc...</td>\n",
       "      <td>4.8</td>\n",
       "    </tr>\n",
       "    <tr>\n",
       "      <th>18</th>\n",
       "      <td>Hard Candy Wet Ever Bold Hold Lip Lacquer Tin,...</td>\n",
       "      <td>38.0</td>\n",
       "      <td>Hard Candy</td>\n",
       "      <td>https://i5.walmartimages.com/asr/43cbcccb-8d77...</td>\n",
       "      <td>4.0</td>\n",
       "    </tr>\n",
       "  </tbody>\n",
       "</table>\n",
       "</div>"
      ],
      "text/plain": [
       "                                                 Name  ReviewCount  \\\n",
       "1   Nice n Easy Permanent Color, 111 Natural Mediu...          0.0   \n",
       "5   Old Spice Artisan Styling High Hold Matte Fini...         52.0   \n",
       "6   Colgate My First Baby and Toddler Toothpaste, ...         10.0   \n",
       "9   (3 pack) Vaseline Lip Therapy Tinted Lip Balm ...        950.0   \n",
       "10  The Art of Shaving Mens Hair Styling Gel, Juni...          0.0   \n",
       "11  ORLY Nail Lacquer for Women, #20634 Red Carpet...          2.0   \n",
       "12  LOreal Paris True Match Super-Blendable Blush,...        184.0   \n",
       "13  Pantene Shampoo and Conditioner Set, Sheer Vol...        413.0   \n",
       "17  Aromatherapy Essential Oil Diffuser 200ml - Ma...         12.0   \n",
       "18  Hard Candy Wet Ever Bold Hold Lip Lacquer Tin,...         38.0   \n",
       "\n",
       "                 Brand                                           ImageURL  \\\n",
       "1          Nice'n Easy  https://i5.walmartimages.com/asr/9c8e42e4-13a5...   \n",
       "5            Old Spice  https://i5.walmartimages.com/asr/73214b95-72ce...   \n",
       "6              Colgate  https://i5.walmartimages.com/asr/d28b16f4-1bd4...   \n",
       "9             Vaseline  https://i5.walmartimages.com/asr/6fced36e-5459...   \n",
       "10  The Art of Shaving  https://i5.walmartimages.com/asr/661839a6-67ac...   \n",
       "11                ORLY  https://i5.walmartimages.com/asr/e37d0f7d-defd...   \n",
       "12       L'Oreal Paris  https://i5.walmartimages.com/asr/506a78ca-cca6...   \n",
       "13             Pantene  https://i5.walmartimages.com/asr/d13252b0-a730...   \n",
       "17           Magnifeko  https://i5.walmartimages.com/asr/43f7de97-84bc...   \n",
       "18          Hard Candy  https://i5.walmartimages.com/asr/43cbcccb-8d77...   \n",
       "\n",
       "    Rating  \n",
       "1      0.0  \n",
       "5      4.6  \n",
       "6      4.3  \n",
       "9      0.0  \n",
       "10     0.0  \n",
       "11     4.5  \n",
       "12     3.8  \n",
       "13     4.1  \n",
       "17     4.8  \n",
       "18     4.0  "
      ]
     },
     "execution_count": 86,
     "metadata": {},
     "output_type": "execute_result"
    }
   ],
   "source": [
    "def collaborative_filtering_recommendations(train_data, target_user_id, top_n=10):\n",
    "    user_item_matrix = train_data.pivot_table(index='ID', columns='ProdID', values='Rating', aggfunc='mean').fillna(0)\n",
    "    \n",
    "    # Matrix Factorization (NMF)\n",
    "    nmf = NMF(n_components=20)\n",
    "    W = nmf.fit_transform(user_item_matrix)\n",
    "    H = nmf.components_\n",
    "\n",
    "    target_user_index = user_item_matrix.index.get_loc(target_user_id)\n",
    "    user_similarities = cosine_similarity(W[target_user_index].reshape(1, -1), W)\n",
    "    \n",
    "    similar_users_indices = user_similarities.argsort()[0][::-1][1:]\n",
    "    recommended_items = []\n",
    "    for user_index in similar_users_indices:\n",
    "        rated_by_similar_user = user_item_matrix.iloc[user_index]\n",
    "        not_rated_by_target_user = (rated_by_similar_user > 0) & (user_item_matrix.iloc[target_user_index] == 0)\n",
    "        recommended_items.extend(user_item_matrix.columns[not_rated_by_target_user])\n",
    "\n",
    "    recommended_items_details = train_data[train_data['ProdID'].isin(recommended_items)][['Name', 'ReviewCount', 'Brand', 'ImageURL', 'Rating']]\n",
    "    return recommended_items_details.head(10)\n",
    "\n",
    "target_user_id = 4\n",
    "top_n = 5\n",
    "collaborative_filtering_rec = collaborative_filtering_recommendations(train_data, target_user_id)\n",
    "print(f\"Top {top_n} recommendations for User {target_user_id}:\")\n",
    "collaborative_filtering_rec"
   ]
  },
  {
   "cell_type": "code",
   "execution_count": 107,
   "id": "f2e2d115",
   "metadata": {},
   "outputs": [],
   "source": [
    "def hybrid_recommendations(train_data, target_user_id, item_name, top_n=10):\n",
    "    content_based_rec = content_based_recommendations(train_data, item_name, top_n)\n",
    "    collaborative_filtering_rec = collaborative_filtering_recommendations(train_data, target_user_id, top_n)\n",
    "    \n",
    "    hybrid_rec = pd.concat([content_based_rec, collaborative_filtering_rec]).drop_duplicates()\n",
    "    return hybrid_rec.head(5)"
   ]
  },
  {
   "cell_type": "code",
   "execution_count": 108,
   "id": "3e4e9cc7",
   "metadata": {
    "scrolled": true
   },
   "outputs": [
    {
     "name": "stderr",
     "output_type": "stream",
     "text": [
      "C:\\Users\\gopik\\anaconda3\\lib\\site-packages\\sklearn\\utils\\validation.py:1688: FutureWarning: Feature names only support names that are all strings. Got feature names with dtypes: ['float']. An error will be raised in 1.2.\n",
      "  warnings.warn(\n",
      "C:\\Users\\gopik\\anaconda3\\lib\\site-packages\\sklearn\\decomposition\\_nmf.py:289: FutureWarning: The 'init' value, when 'init=None' and n_components is less than n_samples and n_features, will be changed from 'nndsvd' to 'nndsvda' in 1.1 (renaming of 0.26).\n",
      "  warnings.warn(\n"
     ]
    },
    {
     "name": "stdout",
     "output_type": "stream",
     "text": [
      "Top 10 Hybrid Recommendations for User 4 and Item 'Black Radiance Perfect Tone Matte Lip Crème, Succulent Plum':\n"
     ]
    },
    {
     "data": {
      "text/html": [
       "<div>\n",
       "<style scoped>\n",
       "    .dataframe tbody tr th:only-of-type {\n",
       "        vertical-align: middle;\n",
       "    }\n",
       "\n",
       "    .dataframe tbody tr th {\n",
       "        vertical-align: top;\n",
       "    }\n",
       "\n",
       "    .dataframe thead th {\n",
       "        text-align: right;\n",
       "    }\n",
       "</style>\n",
       "<table border=\"1\" class=\"dataframe\">\n",
       "  <thead>\n",
       "    <tr style=\"text-align: right;\">\n",
       "      <th></th>\n",
       "      <th>Name</th>\n",
       "      <th>ReviewCount</th>\n",
       "      <th>Brand</th>\n",
       "      <th>ImageURL</th>\n",
       "      <th>Rating</th>\n",
       "    </tr>\n",
       "  </thead>\n",
       "  <tbody>\n",
       "    <tr>\n",
       "      <th>896</th>\n",
       "      <td>Black Radiance Perfect Tone Lip Color, Vintage...</td>\n",
       "      <td>78.0</td>\n",
       "      <td>Black Radiance</td>\n",
       "      <td>https://i5.walmartimages.com/asr/485f26b4-a19a...</td>\n",
       "      <td>4.7</td>\n",
       "    </tr>\n",
       "    <tr>\n",
       "      <th>2496</th>\n",
       "      <td>Black Radiance Perfect Tone Lip Color, Hollywo...</td>\n",
       "      <td>18.0</td>\n",
       "      <td>Black Radiance</td>\n",
       "      <td>https://i5.walmartimages.com/asr/fe3da48f-5142...</td>\n",
       "      <td>4.3</td>\n",
       "    </tr>\n",
       "    <tr>\n",
       "      <th>2136</th>\n",
       "      <td>Black Radiance Brilliant Effects Lip Gloss, Bl...</td>\n",
       "      <td>95.0</td>\n",
       "      <td>Black Radiance</td>\n",
       "      <td>https://i5.walmartimages.com/asr/f6784519-2c86...</td>\n",
       "      <td>4.4</td>\n",
       "    </tr>\n",
       "    <tr>\n",
       "      <th>3140</th>\n",
       "      <td>Laura Mercier Tone Perfecting Eye Gel Crème 0....</td>\n",
       "      <td>11.0</td>\n",
       "      <td>Laura Mercier</td>\n",
       "      <td>https://i5.walmartimages.com/asr/9cd9aea3-5ac3...</td>\n",
       "      <td>3.7</td>\n",
       "    </tr>\n",
       "    <tr>\n",
       "      <th>398</th>\n",
       "      <td>IMAN Skin Tone Evener BB Crème, Light Sand</td>\n",
       "      <td>19.0</td>\n",
       "      <td>IMAN Cosmetics</td>\n",
       "      <td>https://i5.walmartimages.com/asr/b387123b-700d...</td>\n",
       "      <td>3.9</td>\n",
       "    </tr>\n",
       "  </tbody>\n",
       "</table>\n",
       "</div>"
      ],
      "text/plain": [
       "                                                   Name  ReviewCount  \\\n",
       "896   Black Radiance Perfect Tone Lip Color, Vintage...         78.0   \n",
       "2496  Black Radiance Perfect Tone Lip Color, Hollywo...         18.0   \n",
       "2136  Black Radiance Brilliant Effects Lip Gloss, Bl...         95.0   \n",
       "3140  Laura Mercier Tone Perfecting Eye Gel Crème 0....         11.0   \n",
       "398          IMAN Skin Tone Evener BB Crème, Light Sand         19.0   \n",
       "\n",
       "               Brand                                           ImageURL  \\\n",
       "896   Black Radiance  https://i5.walmartimages.com/asr/485f26b4-a19a...   \n",
       "2496  Black Radiance  https://i5.walmartimages.com/asr/fe3da48f-5142...   \n",
       "2136  Black Radiance  https://i5.walmartimages.com/asr/f6784519-2c86...   \n",
       "3140   Laura Mercier  https://i5.walmartimages.com/asr/9cd9aea3-5ac3...   \n",
       "398   IMAN Cosmetics  https://i5.walmartimages.com/asr/b387123b-700d...   \n",
       "\n",
       "      Rating  \n",
       "896      4.7  \n",
       "2496     4.3  \n",
       "2136     4.4  \n",
       "3140     3.7  \n",
       "398      3.9  "
      ]
     },
     "execution_count": 108,
     "metadata": {},
     "output_type": "execute_result"
    }
   ],
   "source": [
    "target_user_id = 4\n",
    "item_name = 'Black Radiance Perfect Tone Matte Lip Crème, Succulent Plum'\n",
    "\n",
    "hybrid_rec = hybrid_recommendations(train_data,target_user_id, item_name, top_n=10)\n",
    "\n",
    "print(f\"Top 10 Hybrid Recommendations for User {target_user_id} and Item '{item_name}':\")\n",
    "hybrid_rec"
   ]
  },
  {
   "cell_type": "code",
   "execution_count": 109,
   "id": "86686bbd",
   "metadata": {},
   "outputs": [
    {
     "name": "stdout",
     "output_type": "stream",
     "text": [
      "Item: Nice n Easy Permanent Color, 111 Natural Medium Auburn 1 ea (Pack of 3), Rating: 0.0\n",
      "Item: Old Spice Artisan Styling High Hold Matte Finish Molding Clay, 2.64 oz, Rating: 0.0\n",
      "Item: Colgate My First Baby and Toddler Toothpaste, Fluoride Free and SLS Free, 1.75 Oz, Rating: 0.0\n",
      "Item: (3 pack) Vaseline Lip Therapy Tinted Lip Balm Mini, Rosy 0.25 oz, Rating: 0.0\n",
      "Item: The Art of Shaving Mens Hair Styling Gel, Juniper Scent, 2 Fl Oz, Rating: 0.0\n",
      "Item: ORLY Nail Lacquer for Women, #20634 Red Carpet, 0.6 oz, Rating: 0.0\n",
      "Item: LOreal Paris True Match Super-Blendable Blush, Soft Powder Texture, Soft Sun, 0.21 oz., Rating: 0.0\n",
      "Item: Pantene Shampoo and Conditioner Set, Sheer Volume, 12-12.6 oz, Rating: 0.0\n",
      "Item: Aromatherapy Essential Oil Diffuser 200ml - Magnifeko Cool Mist Humidifier Ultrasonic Aroma for room, Rating: 0.0\n",
      "Item: Hard Candy Wet Ever Bold Hold Lip Lacquer Tin, 1212 Devious, Rating: 0.0\n"
     ]
    }
   ],
   "source": [
    "recommended_items = collaborative_filtering_rec['Name'].values.tolist()\n",
    "recommended_item_ratings = []\n",
    "\n",
    "for item_name in recommended_items:\n",
    "    # Get the 'ProdID' of the item from the train_data where 'Name' matches the recommended item\n",
    "    prod_id = train_data[train_data['Name'] == item_name]['ProdID'].values\n",
    "    if len(prod_id) == 0:\n",
    "        print(f\"Product ID for '{item_name}' not found in train_data.\")\n",
    "        continue  # Skip if no product ID is found\n",
    "    \n",
    "    prod_id = prod_id[0]  # Assuming 'ProdID' is unique for each 'Name'\n",
    "    \n",
    "    # Check if prod_id is present in user_item_matrix\n",
    "    if prod_id not in user_item_matrix.columns:\n",
    "        print(f\"Product {item_name} (ProdID: {prod_id}) not found in user-item matrix.\")\n",
    "        continue  # Skip if the product is not in the matrix\n",
    "\n",
    "    # Get the rating of the target user for this item from the user_item_matrix\n",
    "    if target_user_id in user_item_matrix.index:\n",
    "        rating = user_item_matrix.loc[target_user_id, prod_id]  # Accessing rating based on target_user_id and prod_id\n",
    "        recommended_item_ratings.append((item_name, rating))\n",
    "    else:\n",
    "        print(f\"Target user {target_user_id} not found in user-item matrix.\")\n",
    "        continue\n",
    "\n",
    "# Print the ratings of the recommended items\n",
    "for item_name, rating in recommended_item_ratings:\n",
    "    print(f\"Item: {item_name}, Rating: {rating}\")\n"
   ]
  },
  {
   "cell_type": "code",
   "execution_count": 110,
   "id": "c29ddfb9",
   "metadata": {},
   "outputs": [],
   "source": [
    "filtered_recommended_items = []\n",
    "\n",
    "# Iterate through each recommended item\n",
    "for item_name, rating in recommended_item_ratings:\n",
    "    # Check if the rating is greater than 0\n",
    "    if rating > 0:\n",
    "        filtered_recommended_items.append((item_name, rating))\n",
    "\n",
    "# Output the filtered recommended items\n",
    "for item_name, rating in filtered_recommended_items:\n",
    "    print(f\"Item: {item_name}, Rating: {rating}\")"
   ]
  },
  {
   "cell_type": "code",
   "execution_count": 111,
   "id": "16f49f84",
   "metadata": {},
   "outputs": [],
   "source": [
    "precision = len(filtered_recommended_items)/len(collaborative_filtering_rec)"
   ]
  },
  {
   "cell_type": "code",
   "execution_count": 112,
   "id": "aef95c85",
   "metadata": {},
   "outputs": [
    {
     "data": {
      "text/plain": [
       "0.0"
      ]
     },
     "execution_count": 112,
     "metadata": {},
     "output_type": "execute_result"
    }
   ],
   "source": [
    "precision"
   ]
  },
  {
   "cell_type": "code",
   "execution_count": 113,
   "id": "53fa7ce0",
   "metadata": {},
   "outputs": [
    {
     "name": "stdout",
     "output_type": "stream",
     "text": [
      "Item: Black Radiance Perfect Tone Lip Color, Vintage Plum, Rating: 4.7\n",
      "Item: Black Radiance Perfect Tone Lip Color, Hollywood Glam, Rating: 0.4153846153846154\n",
      "Item: Black Radiance Brilliant Effects Lip Gloss, Black Diamond, Rating: 1.9600000000000002\n",
      "Item: Laura Mercier Tone Perfecting Eye Gel Crème 0.5 oz, Rating: 0.0\n",
      "Item: IMAN Skin Tone Evener BB Crème, Light Sand, Rating: 1.55\n"
     ]
    }
   ],
   "source": [
    "recommended_items = hybrid_rec['Name'].values.tolist()\n",
    "recommended_item_ratings = []\n",
    "\n",
    "for item_name in recommended_items:\n",
    "    # Get the 'ProdID' of the item from the train_data where 'Name' matches the recommended item\n",
    "    prod_id = train_data[train_data['Name'] == item_name]['ProdID'].values\n",
    "    if len(prod_id) == 0:\n",
    "        print(f\"Product ID for '{item_name}' not found in train_data.\")\n",
    "        continue  # Skip if no product ID is found\n",
    "    \n",
    "    prod_id = prod_id[0]  # Assuming 'ProdID' is unique for each 'Name'\n",
    "    \n",
    "    # Check if prod_id is present in user_item_matrix\n",
    "    if prod_id not in user_item_matrix.columns:\n",
    "        print(f\"Product {item_name} (ProdID: {prod_id}) not found in user-item matrix.\")\n",
    "        continue  # Skip if the product is not in the matrix\n",
    "\n",
    "    # Get the rating of the target user for this item from the user_item_matrix\n",
    "    if target_user_id in user_item_matrix.index:\n",
    "        rating = user_item_matrix.loc[target_user_id, prod_id]  # Accessing rating based on target_user_id and prod_id\n",
    "        recommended_item_ratings.append((item_name, rating))\n",
    "    else:\n",
    "        print(f\"Target user {target_user_id} not found in user-item matrix.\")\n",
    "        continue\n",
    "\n",
    "# Print the ratings of the recommended items\n",
    "for item_name, rating in recommended_item_ratings:\n",
    "    print(f\"Item: {item_name}, Rating: {rating}\")"
   ]
  },
  {
   "cell_type": "code",
   "execution_count": 114,
   "id": "86dbdd90",
   "metadata": {},
   "outputs": [
    {
     "name": "stdout",
     "output_type": "stream",
     "text": [
      "Item: Black Radiance Perfect Tone Lip Color, Vintage Plum, Rating: 4.7\n",
      "Item: Black Radiance Perfect Tone Lip Color, Hollywood Glam, Rating: 0.4153846153846154\n",
      "Item: Black Radiance Brilliant Effects Lip Gloss, Black Diamond, Rating: 1.9600000000000002\n",
      "Item: IMAN Skin Tone Evener BB Crème, Light Sand, Rating: 1.55\n"
     ]
    }
   ],
   "source": [
    "filtered_recommended_items = []\n",
    "\n",
    "# Iterate through each recommended item\n",
    "for item_name, rating in recommended_item_ratings:\n",
    "    # Check if the rating is greater than 0\n",
    "    if rating > 0:\n",
    "        filtered_recommended_items.append((item_name, rating))\n",
    "\n",
    "# Output the filtered recommended items\n",
    "for item_name, rating in filtered_recommended_items:\n",
    "    print(f\"Item: {item_name}, Rating: {rating}\")"
   ]
  },
  {
   "cell_type": "code",
   "execution_count": 115,
   "id": "f7671fd8",
   "metadata": {},
   "outputs": [],
   "source": [
    "precision = len(filtered_recommended_items)/len(hybrid_rec)"
   ]
  },
  {
   "cell_type": "code",
   "execution_count": 116,
   "id": "c3d60198",
   "metadata": {},
   "outputs": [
    {
     "data": {
      "text/plain": [
       "0.8"
      ]
     },
     "execution_count": 116,
     "metadata": {},
     "output_type": "execute_result"
    }
   ],
   "source": [
    "precision"
   ]
  },
  {
   "cell_type": "code",
   "execution_count": 117,
   "id": "64d03b6e",
   "metadata": {},
   "outputs": [
    {
     "name": "stdout",
     "output_type": "stream",
     "text": [
      "Item: Kokie Professional Matte Lipstick, Kiss Me, 0.14 fl oz, Rating: 0.4153846153846154\n",
      "Item: Kokie Professional Matte Lipstick, Firecracker, 0.14 fl oz, Rating: 0.0\n",
      "Item: Kokie Professional Lip Poudre Liquid Matte Liquid Lipstick, Charmed, Rating: 2.7142857142857144\n",
      "Item: Kokie Professional Lip Poudre Liquid Matte Liquid Lipstick, Infamous, Rating: 0.0\n",
      "Item: Be Matte Lipstick - Pink, Rating: 1.942857142857143\n",
      "Item: Kokie Professional Nail Polish, Girls Night , 0.54 fl oz, Rating: 0.0\n",
      "Item: Kokie Professional Nail Polish, Jamacan Me Blush, 0.54 fl oz, Rating: 3.8200000000000003\n",
      "Item: Kokie Professional Skin Perfect HD Foundation, 90C, 1.0 fl oz, Rating: 0.0\n"
     ]
    }
   ],
   "source": [
    "recommended_items = content_based_rec['Name'].values.tolist()\n",
    "recommended_item_ratings = []\n",
    "\n",
    "for item_name in recommended_items:\n",
    "    # Get the 'ProdID' of the item from the train_data where 'Name' matches the recommended item\n",
    "    prod_id = train_data[train_data['Name'] == item_name]['ProdID'].values\n",
    "    if len(prod_id) == 0:\n",
    "        print(f\"Product ID for '{item_name}' not found in train_data.\")\n",
    "        continue  # Skip if no product ID is found\n",
    "    \n",
    "    prod_id = prod_id[0]  # Assuming 'ProdID' is unique for each 'Name'\n",
    "    \n",
    "    # Check if prod_id is present in user_item_matrix\n",
    "    if prod_id not in user_item_matrix.columns:\n",
    "        print(f\"Product {item_name} (ProdID: {prod_id}) not found in user-item matrix.\")\n",
    "        continue  # Skip if the product is not in the matrix\n",
    "\n",
    "    # Get the rating of the target user for this item from the user_item_matrix\n",
    "    if target_user_id in user_item_matrix.index:\n",
    "        rating = user_item_matrix.loc[target_user_id, prod_id]  # Accessing rating based on target_user_id and prod_id\n",
    "        recommended_item_ratings.append((item_name, rating))\n",
    "    else:\n",
    "        print(f\"Target user {target_user_id} not found in user-item matrix.\")\n",
    "        continue\n",
    "\n",
    "# Print the ratings of the recommended items\n",
    "for item_name, rating in recommended_item_ratings:\n",
    "    print(f\"Item: {item_name}, Rating: {rating}\")"
   ]
  },
  {
   "cell_type": "code",
   "execution_count": 118,
   "id": "c5c44667",
   "metadata": {},
   "outputs": [
    {
     "name": "stdout",
     "output_type": "stream",
     "text": [
      "Item: Kokie Professional Matte Lipstick, Kiss Me, 0.14 fl oz, Rating: 0.4153846153846154\n",
      "Item: Kokie Professional Lip Poudre Liquid Matte Liquid Lipstick, Charmed, Rating: 2.7142857142857144\n",
      "Item: Be Matte Lipstick - Pink, Rating: 1.942857142857143\n",
      "Item: Kokie Professional Nail Polish, Jamacan Me Blush, 0.54 fl oz, Rating: 3.8200000000000003\n"
     ]
    }
   ],
   "source": [
    "filtered_recommended_items = []\n",
    "\n",
    "# Iterate through each recommended item\n",
    "for item_name, rating in recommended_item_ratings:\n",
    "    # Check if the rating is greater than 0\n",
    "    if rating > 0:\n",
    "        filtered_recommended_items.append((item_name, rating))\n",
    "\n",
    "# Output the filtered recommended items\n",
    "for item_name, rating in filtered_recommended_items:\n",
    "    print(f\"Item: {item_name}, Rating: {rating}\")"
   ]
  },
  {
   "cell_type": "code",
   "execution_count": 119,
   "id": "4fe4e311",
   "metadata": {},
   "outputs": [],
   "source": [
    "precision = len(filtered_recommended_items)/len(content_based_rec)"
   ]
  },
  {
   "cell_type": "code",
   "execution_count": 120,
   "id": "9e8dbc66",
   "metadata": {},
   "outputs": [
    {
     "data": {
      "text/plain": [
       "0.5"
      ]
     },
     "execution_count": 120,
     "metadata": {},
     "output_type": "execute_result"
    }
   ],
   "source": [
    "precision"
   ]
  },
  {
   "cell_type": "code",
   "execution_count": null,
   "id": "ffb18300",
   "metadata": {},
   "outputs": [],
   "source": []
  }
 ],
 "metadata": {
  "kernelspec": {
   "display_name": "Python 3 (ipykernel)",
   "language": "python",
   "name": "python3"
  },
  "language_info": {
   "codemirror_mode": {
    "name": "ipython",
    "version": 3
   },
   "file_extension": ".py",
   "mimetype": "text/x-python",
   "name": "python",
   "nbconvert_exporter": "python",
   "pygments_lexer": "ipython3",
   "version": "3.9.12"
  }
 },
 "nbformat": 4,
 "nbformat_minor": 5
}
